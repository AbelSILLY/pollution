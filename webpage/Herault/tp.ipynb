{
  "cells": [
    {
      "cell_type": "markdown",
      "metadata": {},
      "source": [
        "# Hérault\n"
      ],
      "id": "be24a8c8"
    },
    {
      "cell_type": "code",
      "metadata": {},
      "source": [
        "#| echo: false\n",
        "import pandas as pd\n",
        "import sys\n",
        "sys.path.append('../..')\n",
        "import modpollution\n",
        "df_a = modpollution.as_df_csv(\"../../modpollution/data/data_a.csv\")\n",
        "df_a = modpollution.extraire_donnees_depart(df_a,'HERAULT')\n",
        "df_moy = modpollution.mean_by_dep(df_a)\n",
        "modpollution.plotpoll(df_moy)\n",
        "modpollution.plotpollline(df_a)"
      ],
      "id": "d7e5978f",
      "execution_count": null,
      "outputs": []
    }
  ],
  "metadata": {
    "kernelspec": {
      "name": "python3",
      "language": "python",
      "display_name": "Python 3 (ipykernel)"
    }
  },
  "nbformat": 4,
  "nbformat_minor": 5
}